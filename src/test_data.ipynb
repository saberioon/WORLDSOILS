{
 "cells": [
  {
   "cell_type": "code",
   "execution_count": 1,
   "metadata": {
    "collapsed": true
   },
   "outputs": [
    {
     "name": "stdout",
     "output_type": "stream",
     "text": [
      "            ID  index  sample.ID        split  fold    OC   B_442.7   B_492.4  \\\n",
      "0     55802362      1   55802362  calibration     1  11.5  0.386902  0.401339   \n",
      "1     51884268      2   51884268  calibration     1  16.8  0.480639  0.503182   \n",
      "2     37042680      3   37042680  calibration     1  13.9  0.361354  0.378062   \n",
      "3     28601668      4   28601668  calibration     1  10.5  0.400529  0.410930   \n",
      "4     35083176      5   35083176  calibration     1  33.7  0.402473  0.417575   \n",
      "...        ...    ...        ...          ...   ...   ...       ...       ...   \n",
      "8911  64601644   8937   64601644         test    -1  11.8  0.475019  0.497026   \n",
      "8912  64641640   8938   64641640         test    -1  13.5  0.417248  0.435323   \n",
      "8913  64661656   8939   64661656         test    -1   3.1  0.507384  0.531391   \n",
      "8914  64801668   8940   64801668         test    -1   8.9  0.317341  0.309569   \n",
      "8915  64841670   8941   64841670         test    -1  11.2  0.310982  0.301547   \n",
      "\n",
      "       B_559.8   B_664.6   B_704.1   B_740.5   B_782.8   B_832.8   B_864.7  \\\n",
      "0     0.461092  0.525561  0.544394  0.561561  0.579471  0.593417  0.600642   \n",
      "1     0.548479  0.581449  0.589048  0.596399  0.605389  0.610438  0.612242   \n",
      "2     0.454961  0.538700  0.560565  0.579131  0.596230  0.607780  0.613904   \n",
      "3     0.452804  0.503406  0.522025  0.539770  0.559229  0.578931  0.591240   \n",
      "4     0.480054  0.553105  0.574502  0.592494  0.609348  0.622059  0.628902   \n",
      "...        ...       ...       ...       ...       ...       ...       ...   \n",
      "8911  0.555755  0.610688  0.627132  0.640603  0.653334  0.662319  0.667786   \n",
      "8912  0.492224  0.552160  0.569354  0.582640  0.594282  0.600702  0.604227   \n",
      "8913  0.592505  0.647605  0.662501  0.674484  0.685795  0.691992  0.695356   \n",
      "8914  0.359680  0.494128  0.517607  0.534590  0.543321  0.545745  0.547571   \n",
      "8915  0.346424  0.474997  0.499516  0.517667  0.527836  0.532042  0.535027   \n",
      "\n",
      "       B_945.1  B_1373.5  B_1613.7  B_2202.4  \n",
      "0     0.619905  0.684612  0.697752  0.675665  \n",
      "1     0.615187  0.632880  0.634074  0.611055  \n",
      "2     0.629319  0.693477  0.708120  0.691395  \n",
      "3     0.618075  0.710621  0.728483  0.679629  \n",
      "4     0.645673  0.708030  0.722233  0.713579  \n",
      "...        ...       ...       ...       ...  \n",
      "8911  0.675188  0.725369  0.735098  0.709945  \n",
      "8912  0.604530  0.637117  0.642947  0.626562  \n",
      "8913  0.693097  0.750460  0.762281  0.727171  \n",
      "8914  0.565258  0.632063  0.642615  0.611941  \n",
      "8915  0.555384  0.627712  0.639106  0.604829  \n",
      "\n",
      "[8916 rows x 19 columns]\n"
     ]
    }
   ],
   "source": [
    "import pandas as pd\n",
    "df = pd.read_csv(\"/Users/mms/OneDrive - Jihočeská univerzita v Českých Budějovicích/Projects/WORLDSOILS/data/lucas15/S2a_lucas15_merged.csv\")\n",
    "\n",
    "print(df)\n"
   ]
  },
  {
   "cell_type": "code",
   "execution_count": 3,
   "outputs": [
    {
     "name": "stdout",
     "output_type": "stream",
     "text": [
      "            ID  index  sample.ID        split  fold    OC   B_442.7   B_492.4  \\\n",
      "0     55802362      1   55802362  calibration     1 -0.28  0.386902  0.401339   \n",
      "1     51884268      2   51884268  calibration     1  0.25  0.480639  0.503182   \n",
      "2     37042680      3   37042680  calibration     1 -0.04  0.361354  0.378062   \n",
      "3     28601668      4   28601668  calibration     1 -0.38  0.400529  0.410930   \n",
      "4     35083176      5   35083176  calibration     1  1.94  0.402473  0.417575   \n",
      "...        ...    ...        ...          ...   ...   ...       ...       ...   \n",
      "8911  64601644   8937   64601644         test    -1 -0.25  0.475019  0.497026   \n",
      "8912  64641640   8938   64641640         test    -1 -0.08  0.417248  0.435323   \n",
      "8913  64661656   8939   64661656         test    -1 -1.12  0.507384  0.531391   \n",
      "8914  64801668   8940   64801668         test    -1 -0.54  0.317341  0.309569   \n",
      "8915  64841670   8941   64841670         test    -1 -0.31  0.310982  0.301547   \n",
      "\n",
      "       B_559.8   B_664.6   B_704.1   B_740.5   B_782.8   B_832.8   B_864.7  \\\n",
      "0     0.461092  0.525561  0.544394  0.561561  0.579471  0.593417  0.600642   \n",
      "1     0.548479  0.581449  0.589048  0.596399  0.605389  0.610438  0.612242   \n",
      "2     0.454961  0.538700  0.560565  0.579131  0.596230  0.607780  0.613904   \n",
      "3     0.452804  0.503406  0.522025  0.539770  0.559229  0.578931  0.591240   \n",
      "4     0.480054  0.553105  0.574502  0.592494  0.609348  0.622059  0.628902   \n",
      "...        ...       ...       ...       ...       ...       ...       ...   \n",
      "8911  0.555755  0.610688  0.627132  0.640603  0.653334  0.662319  0.667786   \n",
      "8912  0.492224  0.552160  0.569354  0.582640  0.594282  0.600702  0.604227   \n",
      "8913  0.592505  0.647605  0.662501  0.674484  0.685795  0.691992  0.695356   \n",
      "8914  0.359680  0.494128  0.517607  0.534590  0.543321  0.545745  0.547571   \n",
      "8915  0.346424  0.474997  0.499516  0.517667  0.527836  0.532042  0.535027   \n",
      "\n",
      "       B_945.1  B_1373.5  B_1613.7  B_2202.4  \n",
      "0     0.619905  0.684612  0.697752  0.675665  \n",
      "1     0.615187  0.632880  0.634074  0.611055  \n",
      "2     0.629319  0.693477  0.708120  0.691395  \n",
      "3     0.618075  0.710621  0.728483  0.679629  \n",
      "4     0.645673  0.708030  0.722233  0.713579  \n",
      "...        ...       ...       ...       ...  \n",
      "8911  0.675188  0.725369  0.735098  0.709945  \n",
      "8912  0.604530  0.637117  0.642947  0.626562  \n",
      "8913  0.693097  0.750460  0.762281  0.727171  \n",
      "8914  0.565258  0.632063  0.642615  0.611941  \n",
      "8915  0.555384  0.627712  0.639106  0.604829  \n",
      "\n",
      "[8916 rows x 19 columns]\n"
     ]
    }
   ],
   "source": [
    "from sklearn import preprocessing\n",
    "\n",
    "new_df = df.apply(lambda x: preprocessing.robust_scale(x) if x.name == 'OC' else x)\n",
    "print(new_df)\n"
   ],
   "metadata": {
    "collapsed": false,
    "pycharm": {
     "name": "#%%\n"
    }
   }
  },
  {
   "cell_type": "code",
   "execution_count": 22,
   "outputs": [
    {
     "name": "stdout",
     "output_type": "stream",
     "text": [
      "0       11.5\n",
      "1       16.8\n",
      "2       13.9\n",
      "3       10.5\n",
      "4       33.7\n",
      "        ... \n",
      "8911    11.8\n",
      "8912    13.5\n",
      "8913     3.1\n",
      "8914     8.9\n",
      "8915    11.2\n",
      "Name: OC, Length: 8916, dtype: float64\n"
     ]
    }
   ],
   "source": [
    "y = df.iloc[:, 5]\n",
    "\n",
    "print(y)"
   ],
   "metadata": {
    "collapsed": false,
    "pycharm": {
     "name": "#%%\n"
    }
   }
  },
  {
   "cell_type": "code",
   "execution_count": 15,
   "outputs": [
    {
     "name": "stdout",
     "output_type": "stream",
     "text": [
      "                   ID  index  sample.ID  fold    OC   B_442.7   B_492.4  \\\n",
      "split                                                                     \n",
      "calibration  55802362      1   55802362     1  11.5  0.386902  0.401339   \n",
      "calibration  51884268      2   51884268     1  16.8  0.480639  0.503182   \n",
      "calibration  37042680      3   37042680     1  13.9  0.361354  0.378062   \n",
      "calibration  28601668      4   28601668     1  10.5  0.400529  0.410930   \n",
      "calibration  35083176      5   35083176     1  33.7  0.402473  0.417575   \n",
      "...               ...    ...        ...   ...   ...       ...       ...   \n",
      "calibration  49863190   5957   49863190     5   7.1  0.419056  0.433878   \n",
      "calibration  53982496   5958   53982496     5  12.3  0.412170  0.432017   \n",
      "calibration  49503250   5959   49503250     5  15.6  0.350815  0.357755   \n",
      "calibration  40143344   5960   40143344     5   9.2  0.435503  0.460149   \n",
      "calibration  41162430   5961   41162430     5  10.2  0.432687  0.460069   \n",
      "\n",
      "              B_559.8   B_664.6   B_704.1   B_740.5   B_782.8   B_832.8  \\\n",
      "split                                                                     \n",
      "calibration  0.461092  0.525561  0.544394  0.561561  0.579471  0.593417   \n",
      "calibration  0.548479  0.581449  0.589048  0.596399  0.605389  0.610438   \n",
      "calibration  0.454961  0.538700  0.560565  0.579131  0.596230  0.607780   \n",
      "calibration  0.452804  0.503406  0.522025  0.539770  0.559229  0.578931   \n",
      "calibration  0.480054  0.553105  0.574502  0.592494  0.609348  0.622059   \n",
      "...               ...       ...       ...       ...       ...       ...   \n",
      "calibration  0.473898  0.527271  0.545921  0.561128  0.575755  0.588461   \n",
      "calibration  0.492896  0.563822  0.587100  0.606933  0.626606  0.640818   \n",
      "calibration  0.384411  0.426981  0.444190  0.460264  0.478232  0.496525   \n",
      "calibration  0.505087  0.549494  0.566399  0.580696  0.595368  0.607768   \n",
      "calibration  0.545049  0.626251  0.647001  0.664687  0.681870  0.691641   \n",
      "\n",
      "              B_864.7   B_945.1  B_1373.5  B_1613.7  B_2202.4  \n",
      "split                                                          \n",
      "calibration  0.600642  0.619905  0.684612  0.697752  0.675665  \n",
      "calibration  0.612242  0.615187  0.632880  0.634074  0.611055  \n",
      "calibration  0.613904  0.629319  0.693477  0.708120  0.691395  \n",
      "calibration  0.591240  0.618075  0.710621  0.728483  0.679629  \n",
      "calibration  0.628902  0.645673  0.708030  0.722233  0.713579  \n",
      "...               ...       ...       ...       ...       ...  \n",
      "calibration  0.596573  0.609066  0.654396  0.664219  0.668311  \n",
      "calibration  0.648721  0.663221  0.719810  0.730301  0.704914  \n",
      "calibration  0.507497  0.531438  0.607144  0.626395  0.633151  \n",
      "calibration  0.615049  0.626969  0.681183  0.698014  0.694657  \n",
      "calibration  0.695973  0.706832  0.770903  0.790364  0.761231  \n",
      "\n",
      "[5947 rows x 18 columns]              ID  index  sample.ID  fold    OC   B_442.7   B_492.4   B_559.8  \\\n",
      "split                                                                         \n",
      "test   26761786   5962   26761786    -1  26.3  0.458452  0.474507  0.546489   \n",
      "test   26762002   5963   26762002    -1   3.4  0.406401  0.419643  0.487542   \n",
      "test   27002038   5964   27002038    -1   9.2  0.378261  0.386848  0.437152   \n",
      "test   27122016   5965   27122016    -1  18.7  0.385777  0.399887  0.458843   \n",
      "test   27162028   5966   27162028    -1  27.9  0.425863  0.443055  0.511570   \n",
      "...         ...    ...        ...   ...   ...       ...       ...       ...   \n",
      "test   64601644   8937   64601644    -1  11.8  0.475019  0.497026  0.555755   \n",
      "test   64641640   8938   64641640    -1  13.5  0.417248  0.435323  0.492224   \n",
      "test   64661656   8939   64661656    -1   3.1  0.507384  0.531391  0.592505   \n",
      "test   64801668   8940   64801668    -1   8.9  0.317341  0.309569  0.359680   \n",
      "test   64841670   8941   64841670    -1  11.2  0.310982  0.301547  0.346424   \n",
      "\n",
      "        B_664.6   B_704.1   B_740.5   B_782.8   B_832.8   B_864.7   B_945.1  \\\n",
      "split                                                                         \n",
      "test   0.641276  0.661526  0.675973  0.686338  0.693229  0.696808  0.710598   \n",
      "test   0.574279  0.594500  0.612522  0.628646  0.638393  0.642988  0.659591   \n",
      "test   0.509364  0.533386  0.555364  0.577301  0.596031  0.606573  0.629926   \n",
      "test   0.521246  0.542997  0.563257  0.584660  0.601384  0.610186  0.629971   \n",
      "test   0.584376  0.605570  0.623529  0.640417  0.652869  0.659234  0.676210   \n",
      "...         ...       ...       ...       ...       ...       ...       ...   \n",
      "test   0.610688  0.627132  0.640603  0.653334  0.662319  0.667786  0.675188   \n",
      "test   0.552160  0.569354  0.582640  0.594282  0.600702  0.604227  0.604530   \n",
      "test   0.647605  0.662501  0.674484  0.685795  0.691992  0.695356  0.693097   \n",
      "test   0.494128  0.517607  0.534590  0.543321  0.545745  0.547571  0.565258   \n",
      "test   0.474997  0.499516  0.517667  0.527836  0.532042  0.535027  0.555384   \n",
      "\n",
      "       B_1373.5  B_1613.7  B_2202.4  \n",
      "split                                \n",
      "test   0.760524  0.773428  0.760040  \n",
      "test   0.720264  0.740902  0.709246  \n",
      "test   0.696372  0.711487  0.698354  \n",
      "test   0.712503  0.740739  0.711467  \n",
      "test   0.759899  0.780872  0.752361  \n",
      "...         ...       ...       ...  \n",
      "test   0.725369  0.735098  0.709945  \n",
      "test   0.637117  0.642947  0.626562  \n",
      "test   0.750460  0.762281  0.727171  \n",
      "test   0.632063  0.642615  0.611941  \n",
      "test   0.627712  0.639106  0.604829  \n",
      "\n",
      "[2969 rows x 18 columns]\n"
     ]
    }
   ],
   "source": [
    "from fnn_v2 import separating_data_set\n",
    "(cal_df, tst_df) = separating_data_set(df)\n",
    "\n",
    "print(cal_df, tst_df)\n",
    "\n"
   ],
   "metadata": {
    "collapsed": false,
    "pycharm": {
     "name": "#%%\n"
    }
   }
  },
  {
   "cell_type": "code",
   "execution_count": 16,
   "outputs": [],
   "source": [
    "from fnn_v2 import splitting_dataset\n",
    "\n",
    "\n",
    "(x_train, y_train) = splitting_dataset(cal_df)\n",
    "(x_test, y_test) = splitting_dataset(tst_df)\n"
   ],
   "metadata": {
    "collapsed": false,
    "pycharm": {
     "name": "#%%\n"
    }
   }
  },
  {
   "cell_type": "code",
   "execution_count": 18,
   "outputs": [
    {
     "name": "stdout",
     "output_type": "stream",
     "text": [
      "              B_442.7   B_492.4   B_559.8   B_664.6   B_704.1   B_740.5  \\\n",
      "split                                                                     \n",
      "calibration  0.386902  0.401339  0.461092  0.525561  0.544394  0.561561   \n",
      "calibration  0.480639  0.503182  0.548479  0.581449  0.589048  0.596399   \n",
      "calibration  0.361354  0.378062  0.454961  0.538700  0.560565  0.579131   \n",
      "calibration  0.400529  0.410930  0.452804  0.503406  0.522025  0.539770   \n",
      "calibration  0.402473  0.417575  0.480054  0.553105  0.574502  0.592494   \n",
      "...               ...       ...       ...       ...       ...       ...   \n",
      "calibration  0.419056  0.433878  0.473898  0.527271  0.545921  0.561128   \n",
      "calibration  0.412170  0.432017  0.492896  0.563822  0.587100  0.606933   \n",
      "calibration  0.350815  0.357755  0.384411  0.426981  0.444190  0.460264   \n",
      "calibration  0.435503  0.460149  0.505087  0.549494  0.566399  0.580696   \n",
      "calibration  0.432687  0.460069  0.545049  0.626251  0.647001  0.664687   \n",
      "\n",
      "              B_782.8   B_832.8   B_864.7   B_945.1  B_1373.5  B_1613.7  \\\n",
      "split                                                                     \n",
      "calibration  0.579471  0.593417  0.600642  0.619905  0.684612  0.697752   \n",
      "calibration  0.605389  0.610438  0.612242  0.615187  0.632880  0.634074   \n",
      "calibration  0.596230  0.607780  0.613904  0.629319  0.693477  0.708120   \n",
      "calibration  0.559229  0.578931  0.591240  0.618075  0.710621  0.728483   \n",
      "calibration  0.609348  0.622059  0.628902  0.645673  0.708030  0.722233   \n",
      "...               ...       ...       ...       ...       ...       ...   \n",
      "calibration  0.575755  0.588461  0.596573  0.609066  0.654396  0.664219   \n",
      "calibration  0.626606  0.640818  0.648721  0.663221  0.719810  0.730301   \n",
      "calibration  0.478232  0.496525  0.507497  0.531438  0.607144  0.626395   \n",
      "calibration  0.595368  0.607768  0.615049  0.626969  0.681183  0.698014   \n",
      "calibration  0.681870  0.691641  0.695973  0.706832  0.770903  0.790364   \n",
      "\n",
      "             B_2202.4  \n",
      "split                  \n",
      "calibration  0.675665  \n",
      "calibration  0.611055  \n",
      "calibration  0.691395  \n",
      "calibration  0.679629  \n",
      "calibration  0.713579  \n",
      "...               ...  \n",
      "calibration  0.668311  \n",
      "calibration  0.704914  \n",
      "calibration  0.633151  \n",
      "calibration  0.694657  \n",
      "calibration  0.761231  \n",
      "\n",
      "[5947 rows x 13 columns]\n"
     ]
    }
   ],
   "source": [
    "print(x_train.iloc[:,:])"
   ],
   "metadata": {
    "collapsed": false,
    "pycharm": {
     "name": "#%%\n"
    }
   }
  },
  {
   "cell_type": "code",
   "execution_count": 20,
   "outputs": [
    {
     "name": "stdout",
     "output_type": "stream",
     "text": [
      "['calibration' 'calibration' 'calibration' ... 'calibration' 'calibration'\n",
      " 'calibration']\n"
     ]
    }
   ],
   "source": [
    "indexNamesArr = x_train.index.values\n",
    "print(indexNamesArr)"
   ],
   "metadata": {
    "collapsed": false,
    "pycharm": {
     "name": "#%%\n"
    }
   }
  },
  {
   "cell_type": "code",
   "execution_count": 27,
   "outputs": [
    {
     "name": "stdout",
     "output_type": "stream",
     "text": [
      "<class 'numpy.ndarray'>\n",
      "RobustScaler Data =  [-0.28  0.25 -0.04 ... -1.12 -0.54 -0.31]\n",
      "(8916,)\n"
     ]
    },
    {
     "name": "stderr",
     "output_type": "stream",
     "text": [
      "/Users/mms/anaconda3/envs/WORLDSOILS/lib/python3.8/site-packages/seaborn/distributions.py:2557: FutureWarning: `distplot` is a deprecated function and will be removed in a future version. Please adapt your code to use either `displot` (a figure-level function with similar flexibility) or `histplot` (an axes-level function for histograms).\n",
      "  warnings.warn(msg, FutureWarning)\n",
      "/Users/mms/anaconda3/envs/WORLDSOILS/lib/python3.8/site-packages/seaborn/distributions.py:2557: FutureWarning: `distplot` is a deprecated function and will be removed in a future version. Please adapt your code to use either `displot` (a figure-level function with similar flexibility) or `histplot` (an axes-level function for histograms).\n",
      "  warnings.warn(msg, FutureWarning)\n"
     ]
    },
    {
     "data": {
      "text/plain": "<Figure size 800x560 with 1 Axes>",
      "image/png": "[encoded data removed]"
     },
     "metadata": {},
     "output_type": "display_data"
    }
   ],
   "source": [
    "from sklearn import preprocessing\n",
    "import numpy as np\n",
    "import seaborn as sns\n",
    "import matplotlib.pyplot as plt\n",
    "\n",
    "\n",
    "# Robust Scaling the data attributes\n",
    "RobustScaler_y = preprocessing.robust_scale(y)\n",
    "print(type(RobustScaler_y))\n",
    "print(\"RobustScaler Data = \", RobustScaler_y)\n",
    "\n",
    "print(RobustScaler_y.shape)\n",
    "sns.set_style(\"white\")\n",
    "\n",
    "# Plot\n",
    "kwargs = dict(hist_kws={'alpha':.6}, kde_kws={'linewidth':2})\n",
    "\n",
    "plt.figure(figsize=(10,7), dpi= 80)\n",
    "sns.distplot(RobustScaler_y, color=\"orange\", label=\"normalized OC\", **kwargs)\n",
    "sns.distplot(y, color=\"dodgerblue\", label=\"OC\", **kwargs)\n",
    "#plt.xlim(50,75)\n",
    "plt.legend();\n",
    "\n",
    "\n",
    "\n"
   ],
   "metadata": {
    "collapsed": false,
    "pycharm": {
     "name": "#%%\n"
    }
   }
  }
 ],
 "metadata": {
  "kernelspec": {
   "display_name": "Python 3",
   "language": "python",
   "name": "python3"
  },
  "language_info": {
   "codemirror_mode": {
    "name": "ipython",
    "version": 2
   },
   "file_extension": ".py",
   "mimetype": "text/x-python",
   "name": "python",
   "nbconvert_exporter": "python",
   "pygments_lexer": "ipython2",
   "version": "2.7.6"
  }
 },
 "nbformat": 4,
 "nbformat_minor": 0
}